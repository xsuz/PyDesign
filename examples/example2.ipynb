{
 "cells": [
  {
   "cell_type": "markdown",
   "id": "10f02e5c",
   "metadata": {},
   "source": [
    "# 空力計算\n",
    "\n",
    "翼型の空力特性を計算します。"
   ]
  },
  {
   "cell_type": "code",
   "execution_count": 1,
   "id": "fc4a191e-79a7-4e04-9584-a4962bae4651",
   "metadata": {},
   "outputs": [],
   "source": [
    "import sys\n",
    "sys.path.append(\"../\")\n",
    "from obj.Wing import WingInfo,WingElement\n",
    "from utils.unit import *"
   ]
  },
  {
   "cell_type": "markdown",
   "id": "19dd0463",
   "metadata": {},
   "source": [
    "## 主翼の宣言\n",
    "\n",
    "主翼の翼型を宣言します。\n",
    "WingElementクラスは、桁で区切られた部分の空力特性を計算します。\n",
    "翼型のデータは、翼型名として指定します。\n",
    "WingInfoクラスは、複数のWingElementを組み合わせて翼を作ります。"
   ]
  },
  {
   "cell_type": "code",
   "execution_count": 2,
   "id": "833beaef-3d72-40af-980d-3272eea9f950",
   "metadata": {},
   "outputs": [],
   "source": [
    "wing=WingInfo(wing_elements=[\n",
    "        WingElement(name=\"A\",inner_foil=\"../data/foils/Red.dat\",outer_foil=\"../data/foils/Red.dat\",length=2.5*m,taper_ratio=1,diam=130*mm),\n",
    "        WingElement(name=\"B\",inner_foil=\"../data/foils/Red.dat\",outer_foil=\"../data/foils/Red.dat\",length=5*m,taper_ratio=1/1,diam=130*mm),\n",
    "        WingElement(name=\"C\",inner_foil=\"../data/foils/Red.dat\",outer_foil=\"../data/foils/Red70.dat\",length=4.4*m,taper_ratio=.8754/1,diam=130*mm),\n",
    "        WingElement(name=\"D1\",inner_foil=\"../data/foils/Red70.dat\",outer_foil=\"../data/foils/Red50.dat\",length=2.504*m,taper_ratio=.7384/.8754,diam=130*mm),\n",
    "        WingElement(name=\"D2\",inner_foil=\"../data/foils/Red50.dat\",outer_foil=\"../data/foils/DAE41.dat\",length=2.496*m,taper_ratio=.4692/.7384,diam=130*mm)\n",
    "],alpha_set=2*deg,root_chord=1.05*m)"
   ]
  },
  {
   "cell_type": "markdown",
   "id": "788e6f65",
   "metadata": {},
   "source": [
    "## 翼型の出力\n",
    "\n",
    "各点での翼型を出力します。"
   ]
  },
  {
   "cell_type": "code",
   "execution_count": 3,
   "id": "869d4318-e2c2-4c4b-be86-0bc0798e0b83",
   "metadata": {},
   "outputs": [
    {
     "data": {
      "text/plain": [
       "'C:\\\\Users\\\\xsuz\\\\meister\\\\aircraft-design\\\\project\\\\PyDesign\\\\out.zip'"
      ]
     },
     "execution_count": 3,
     "metadata": {},
     "output_type": "execute_result"
    }
   ],
   "source": [
    "import pandas as pd\n",
    "import shutil\n",
    "import os\n",
    "\n",
    "try:\n",
    "    shutil.rmtree(\"../out\")\n",
    "except:\n",
    "    pass\n",
    "os.mkdir(\"../out\")\n",
    "\n",
    "df=pd.read_csv(\"../data/csv/D.csv\")\n",
    "for label in df.values:\n",
    "    wing.save_foil((2.5+5+4.4)*u.m+label[0]*mm,0,f\"{label[0]}\",\"../out\")\n",
    "\n",
    "shutil.make_archive(\"../out\",\"zip\",\"../out\")"
   ]
  },
  {
   "cell_type": "code",
   "execution_count": null,
   "id": "9e925b0c-051a-4e59-95d7-38c79d7ce901",
   "metadata": {},
   "outputs": [],
   "source": []
  }
 ],
 "metadata": {
  "kernelspec": {
   "display_name": "Python 3 (ipykernel)",
   "language": "python",
   "name": "python3"
  },
  "language_info": {
   "codemirror_mode": {
    "name": "ipython",
    "version": 3
   },
   "file_extension": ".py",
   "mimetype": "text/x-python",
   "name": "python",
   "nbconvert_exporter": "python",
   "pygments_lexer": "ipython3",
   "version": "3.12.0"
  }
 },
 "nbformat": 4,
 "nbformat_minor": 5
}
